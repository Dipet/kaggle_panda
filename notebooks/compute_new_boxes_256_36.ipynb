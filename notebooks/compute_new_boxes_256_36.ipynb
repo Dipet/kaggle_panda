{
 "cells": [
  {
   "cell_type": "code",
   "execution_count": 1,
   "metadata": {},
   "outputs": [],
   "source": [
    "from skimage.io import MultiImage\n",
    "import cv2 as cv\n",
    "\n",
    "import sys\n",
    "sys.path.append(\"../utils\")\n",
    "\n",
    "import json\n",
    "from data_utils import get_tiles_new, get_new_tile_boxes\n",
    "\n",
    "import os\n",
    "import matplotlib.pyplot as plt\n",
    "\n",
    "from tqdm.notebook import tqdm"
   ]
  },
  {
   "cell_type": "code",
   "execution_count": 2,
   "metadata": {},
   "outputs": [],
   "source": [
    "data_dir = \"../input/prostate-cancer-grade-assessment/train_images\"\n",
    "images = os.listdir(data_dir)"
   ]
  },
  {
   "cell_type": "code",
   "execution_count": 3,
   "metadata": {},
   "outputs": [
    {
     "data": {
      "application/vnd.jupyter.widget-view+json": {
       "model_id": "c01e6897a4624b0993871368eed23d5b",
       "version_major": 2,
       "version_minor": 0
      },
      "text/plain": [
       "HBox(children=(FloatProgress(value=0.0, max=10616.0), HTML(value='')))"
      ]
     },
     "metadata": {},
     "output_type": "display_data"
    },
    {
     "name": "stdout",
     "output_type": "stream",
     "text": [
      "\n"
     ]
    }
   ],
   "source": [
    "result = {}\n",
    "\n",
    "for path in tqdm(images):\n",
    "    img = MultiImage(os.path.join(data_dir, path))[-1]\n",
    "    \n",
    "    boxes, sums = get_new_tile_boxes(img, 64)\n",
    "    tile = get_tiles_new(img, boxes, sums, 64, 36)\n",
    "    \n",
    "    result[os.path.splitext(path)[0]] = {\"boxes\": boxes.tolist(), \"sums\": sums.tolist()}"
   ]
  },
  {
   "cell_type": "code",
   "execution_count": 7,
   "metadata": {},
   "outputs": [],
   "source": [
    "with open(\"new_boxes_256_36.json\", 'w') as file:\n",
    "    json.dump(result, file)"
   ]
  },
  {
   "cell_type": "code",
   "execution_count": null,
   "metadata": {},
   "outputs": [],
   "source": []
  }
 ],
 "metadata": {
  "kernelspec": {
   "display_name": "Python 3",
   "language": "python",
   "name": "python3"
  },
  "language_info": {
   "codemirror_mode": {
    "name": "ipython",
    "version": 3
   },
   "file_extension": ".py",
   "mimetype": "text/x-python",
   "name": "python",
   "nbconvert_exporter": "python",
   "pygments_lexer": "ipython3",
   "version": "3.6.9"
  }
 },
 "nbformat": 4,
 "nbformat_minor": 4
}
